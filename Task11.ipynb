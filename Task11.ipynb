{
  "nbformat": 4,
  "nbformat_minor": 0,
  "metadata": {
    "colab": {
      "provenance": []
    },
    "kernelspec": {
      "name": "python3",
      "display_name": "Python 3"
    },
    "language_info": {
      "name": "python"
    }
  },
  "cells": [
    {
      "cell_type": "code",
      "execution_count": 1,
      "metadata": {
        "id": "iPBb8eO80uOp"
      },
      "outputs": [],
      "source": [
        "import json"
      ]
    },
    {
      "cell_type": "code",
      "source": [
        "with open('task.json', 'r') as file:\n",
        "    json_data = json.load(file)"
      ],
      "metadata": {
        "id": "dNXPdRaT1Dnn"
      },
      "execution_count": 2,
      "outputs": []
    },
    {
      "cell_type": "code",
      "source": [
        "result_list = []\n",
        "\n",
        "for item in json_data:\n",
        "    annotations = item.get('annotations', [])\n",
        "    for annotation in annotations:\n",
        "        result = annotation.get('result', [])\n",
        "        for segment in result:\n",
        "            value = segment.get('value', {})\n",
        "            words = value.get('text', '').split()\n",
        "            labels = value.get('labels', [])\n",
        "\n",
        "            result_list.append({\n",
        "                \"Words\": words,\n",
        "                \"Labels\": labels\n",
        "            })"
      ],
      "metadata": {
        "id": "3TP9KiuQ1HVn"
      },
      "execution_count": 3,
      "outputs": []
    },
    {
      "cell_type": "code",
      "source": [
        "combined_result = {\n",
        "    \"words\": [word for entry in result_list for word in entry[\"Words\"]],\n",
        "    \"labels\": list(set(label for entry in result_list for label in entry[\"Labels\"]))\n",
        "}"
      ],
      "metadata": {
        "id": "pEz77KsU1MIZ"
      },
      "execution_count": 4,
      "outputs": []
    },
    {
      "cell_type": "code",
      "source": [
        "print(f\"result = {combined_result}\")"
      ],
      "metadata": {
        "colab": {
          "base_uri": "https://localhost:8080/"
        },
        "id": "pU0qCyma1Q5k",
        "outputId": "e4d81e7b-cadf-4bf0-caee-f6567c41d921"
      },
      "execution_count": 5,
      "outputs": [
        {
          "output_type": "stream",
          "name": "stdout",
          "text": [
            "result = {'words': [], 'labels': ['Duty', 'Experience', 'Company Name', 'Skill', 'Job Title', 'About Company']}\n"
          ]
        }
      ]
    }
  ]
}